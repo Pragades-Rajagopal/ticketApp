{
 "cells": [
  {
   "cell_type": "code",
   "execution_count": 20,
   "metadata": {},
   "outputs": [],
   "source": [
    "import pandas as pd\n",
    "import csv"
   ]
  },
  {
   "cell_type": "code",
   "execution_count": 21,
   "metadata": {},
   "outputs": [
    {
     "name": "stdout",
     "output_type": "stream",
     "text": [
      "[OrderedDict([('CATEGORY', 'Old charge id update')]), OrderedDict([('CATEGORY', 'SECS change order failure')])]\n"
     ]
    }
   ],
   "source": [
    "with open('./category/ticket_category.csv', 'r') as foo:\n",
    "    reader = csv.DictReader(foo)\n",
    "    list_r = list(reader)\n",
    "    print(list_r)"
   ]
  },
  {
   "cell_type": "code",
   "execution_count": 23,
   "metadata": {},
   "outputs": [
    {
     "name": "stdout",
     "output_type": "stream",
     "text": [
      "[{'CATEGORY': 'Old charge id update'}, {'CATEGORY': 'SECS change order failure'}]\n"
     ]
    }
   ],
   "source": [
    "with open('./category/ticket_category.csv', 'r') as f:\n",
    "    a = [{k: v for k, v in row.items()} for row in csv.DictReader(f, skipinitialspace=True)]\n",
    "    print(a)"
   ]
  }
 ],
 "metadata": {
  "interpreter": {
   "hash": "0600588c3b5f4418cbe7b5ebc6825b479f3bc010269d8b60d75058cdd010adfe"
  },
  "kernelspec": {
   "display_name": "Python 3.7.3 64-bit",
   "name": "python3"
  },
  "language_info": {
   "codemirror_mode": {
    "name": "ipython",
    "version": 3
   },
   "file_extension": ".py",
   "mimetype": "text/x-python",
   "name": "python",
   "nbconvert_exporter": "python",
   "pygments_lexer": "ipython3",
   "version": "3.7.3"
  },
  "orig_nbformat": 4
 },
 "nbformat": 4,
 "nbformat_minor": 2
}
